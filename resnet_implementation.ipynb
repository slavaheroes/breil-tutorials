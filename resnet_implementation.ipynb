{
  "nbformat": 4,
  "nbformat_minor": 0,
  "metadata": {
    "colab": {
      "provenance": []
    },
    "kernelspec": {
      "name": "python3",
      "display_name": "Python 3"
    },
    "language_info": {
      "name": "python"
    },
    "accelerator": "GPU",
    "gpuClass": "standard"
  },
  "cells": [
    {
      "cell_type": "code",
      "execution_count": 1,
      "metadata": {
        "id": "jckAl57IvTdA"
      },
      "outputs": [],
      "source": [
        "import torch\n",
        "import numpy as np\n",
        "from copy import deepcopy\n",
        "\n",
        "import torchvision\n",
        "import torchvision.transforms as transforms\n",
        "\n",
        "import torch.nn as nn\n",
        "import torch.nn.functional as F\n",
        "\n",
        "\n",
        "from torchvision.utils import make_grid\n",
        "import matplotlib.pyplot as plt\n",
        "import torchvision.transforms.functional\n",
        "from torch.utils.data import random_split\n"
      ]
    },
    {
      "cell_type": "code",
      "source": [
        "device = \"cuda\" if torch.cuda.is_available() else \"cpu\"\n",
        "print(device)"
      ],
      "metadata": {
        "colab": {
          "base_uri": "https://localhost:8080/"
        },
        "id": "5xo5N_7ywNEk",
        "outputId": "9e4488c8-67fd-4c59-c5cb-b6043bd3c5fa"
      },
      "execution_count": 2,
      "outputs": [
        {
          "output_type": "stream",
          "name": "stdout",
          "text": [
            "cuda\n"
          ]
        }
      ]
    },
    {
      "cell_type": "markdown",
      "source": [
        "Initialization of dataset and augmentation transforms.\n",
        "Also, the visualization was added.\n"
      ],
      "metadata": {
        "id": "pYqV0VZ4PopL"
      }
    },
    {
      "cell_type": "code",
      "source": [
        "transform = transforms.Compose(\n",
        "    [\n",
        "        # transforms.Pad(padding=4, fill=0),\n",
        "        transforms.RandomHorizontalFlip(p=0.5),\n",
        "        transforms.RandomCrop(size=32, padding=4),\n",
        "        transforms.ToTensor(),\n",
        "        transforms.Normalize((0.5, 0.5, 0.5), (0.5, 0.5, 0.5))])\n",
        "\n",
        "batch_size = 128\n",
        "\n",
        "dataset = torchvision.datasets.CIFAR10(root='./data', train=True,\n",
        "                                        download=True, transform=transform)\n",
        "\n",
        "trainset, validset = random_split(dataset, [45000, 5000])\n",
        "print(len(trainset), len(validset))\n",
        "\n",
        "trainloader = torch.utils.data.DataLoader(trainset, batch_size=batch_size,\n",
        "                                          shuffle=True, num_workers=2)\n",
        "\n",
        "validloader = torch.utils.data.DataLoader(validset, batch_size=batch_size,\n",
        "                                          shuffle=False, num_workers=2)\n",
        "\n",
        "\n",
        "testset = torchvision.datasets.CIFAR10(root='./data', train=False,\n",
        "                                       download=True, transform=transform)\n",
        "testloader = torch.utils.data.DataLoader(testset, batch_size=batch_size,\n",
        "                                         shuffle=False, num_workers=2)\n",
        "\n",
        "classes = ('plane', 'car', 'bird', 'cat',\n",
        "           'deer', 'dog', 'frog', 'horse', 'ship', 'truck')"
      ],
      "metadata": {
        "id": "HUZQI-BtwQdb",
        "colab": {
          "base_uri": "https://localhost:8080/"
        },
        "outputId": "ad8b3725-8c76-4050-8604-734f476a2efe"
      },
      "execution_count": 3,
      "outputs": [
        {
          "output_type": "stream",
          "name": "stdout",
          "text": [
            "Files already downloaded and verified\n",
            "45000 5000\n",
            "Files already downloaded and verified\n"
          ]
        }
      ]
    },
    {
      "cell_type": "code",
      "source": [
        "plt.rcParams[\"savefig.bbox\"] = 'tight'\n",
        "\n",
        "\n",
        "def show(imgs):\n",
        "    if not isinstance(imgs, list):\n",
        "        imgs = [imgs]\n",
        "    fig, axs = plt.subplots(ncols=len(imgs), squeeze=False, figsize=(12, 12))\n",
        "    for i, img in enumerate(imgs):\n",
        "        img = img.detach()\n",
        "        img = torchvision.transforms.functional.to_pil_image(img)\n",
        "        axs[0, i].imshow(np.asarray(img))\n",
        "        axs[0, i].set(xticklabels=[], yticklabels=[], xticks=[], yticks=[])"
      ],
      "metadata": {
        "id": "OY1UoVMxC1xs"
      },
      "execution_count": 4,
      "outputs": []
    },
    {
      "cell_type": "code",
      "source": [
        "img_list = [trainset[i][0] for i in range(10)]\n",
        "label_list = [classes[trainset[i][1]] for i in range(10)]\n",
        "grid = make_grid(img_list, padding=0, nrow=10, normalize=True)\n",
        "print(label_list)\n",
        "show(grid)"
      ],
      "metadata": {
        "colab": {
          "base_uri": "https://localhost:8080/",
          "height": 118
        },
        "id": "-8RvqjYNOGmi",
        "outputId": "15008937-180b-48c6-dcea-dc303391e82a"
      },
      "execution_count": 5,
      "outputs": [
        {
          "output_type": "stream",
          "name": "stdout",
          "text": [
            "['car', 'ship', 'car', 'frog', 'deer', 'frog', 'plane', 'ship', 'cat', 'cat']\n"
          ]
        },
        {
          "output_type": "display_data",
          "data": {
            "text/plain": [
              "<Figure size 864x864 with 1 Axes>"
            ],
            "image/png": "[encoded data removed]"
          },
          "metadata": {}
        }
      ]
    },
    {
      "cell_type": "markdown",
      "source": [
        "**Model**"
      ],
      "metadata": {
        "id": "mRuRwPGdRBeq"
      }
    },
    {
      "cell_type": "code",
      "source": [
        "class ResNetBlock(nn.Module):\n",
        "  def __init__(self, in_channels, out_channels, stride):\n",
        "    super().__init__()\n",
        "    self.conv1 = nn.Conv2d(in_channels=in_channels, out_channels=out_channels,\n",
        "                           kernel_size=3, padding=1, stride=stride, bias=False)\n",
        "    self.bn1 = nn.BatchNorm2d(num_features=out_channels)\n",
        "    self.conv2 = nn.Conv2d(in_channels=out_channels, out_channels=out_channels,\n",
        "                         kernel_size=3, padding=1, stride=1, bias=False)\n",
        "    self.bn2 = nn.BatchNorm2d(num_features=out_channels)\n",
        "    self.relu = nn.ReLU()\n",
        "\n",
        "    self.use_padding = (in_channels != out_channels)\n",
        "\n",
        "\n",
        "  def forward(self, x):\n",
        "    x1 = self.relu(self.bn1(self.conv1(x)))\n",
        "    x2 = self.bn2(self.conv2(x1))\n",
        "\n",
        "    if self.use_padding:\n",
        "      # dimensions are not matched hence we need to use shortcut\n",
        "      # tensor: BxCxHxW\n",
        "      padding_shape = []\n",
        "              \n",
        "      for i in range(len(x.shape)-1, -1, -1):\n",
        "        padding_shape.append((x2.shape[i] - x.shape[i])//2)\n",
        "        padding_shape.append((x2.shape[i] - x.shape[i])//2)\n",
        "\n",
        "      x = nn.functional.pad(x, padding_shape, \"constant\", 0)\n",
        "\n",
        "    return self.relu(x2 + x)\n",
        "\n",
        "class ResNetLayer(nn.Module):\n",
        "  def __init__(self, in_channels, out_channels, first_stride, N=3):\n",
        "    super().__init__()\n",
        "    layers = [\n",
        "        ResNetBlock(in_channels=in_channels, out_channels=out_channels, stride=first_stride)\n",
        "    ]\n",
        "\n",
        "    for _ in range(N-1):\n",
        "      layers.append(\n",
        "          ResNetBlock(in_channels=out_channels, out_channels=out_channels, stride=1)\n",
        "      )\n",
        "    \n",
        "    self.layer = nn.Sequential(*layers)\n",
        "      \n",
        "  \n",
        "  def forward(self, x):\n",
        "    return self.layer(x)\n",
        "\n"
      ],
      "metadata": {
        "id": "KPe1hGE9-xlt"
      },
      "execution_count": 6,
      "outputs": []
    },
    {
      "cell_type": "code",
      "source": [
        "class ResNet(nn.Module):\n",
        "    def __init__(self, N=3, num_classes=10):\n",
        "        super().__init__()\n",
        "        self.N = N\n",
        "        self.num_classes = num_classes\n",
        "\n",
        "        # First conv layer\n",
        "        self.conv1 = nn.Conv2d(in_channels=3, out_channels=16, kernel_size=3, \n",
        "                               padding=1, bias=False)\n",
        "        self.bn1 = nn.BatchNorm2d(num_features=16)\n",
        "        self.relu = nn.ReLU()\n",
        "\n",
        "        # 32x32 map size layers\n",
        "        self.layer32 = ResNetLayer(in_channels=16, out_channels=16, first_stride=1, N=N)\n",
        "\n",
        "        # 16x16 map size layers\n",
        "        self.layer16 = ResNetLayer(in_channels=16, out_channels=32, first_stride=2, N=N)\n",
        "\n",
        "        # 8x8 map size layers\n",
        "        self.layer8 = ResNetLayer(in_channels=32, out_channels=64, first_stride=2, N=N)\n",
        "\n",
        "        # avg pool and fc layers\n",
        "        self.avg_pool = nn.AvgPool2d(kernel_size=8)\n",
        "        self.fc = nn.Linear(in_features=64, out_features=num_classes)\n",
        "\n",
        "    def forward(self, x):\n",
        "      x = self.relu(self.bn1(self.conv1(x)))\n",
        "\n",
        "      x = self.layer32(x)\n",
        "\n",
        "      x = self.layer16(x)\n",
        "\n",
        "      x = self.layer8(x)\n",
        "\n",
        "      x = self.avg_pool(x)\n",
        "      x = self.fc(x.squeeze())\n",
        "      \n",
        "      return x\n"
      ],
      "metadata": {
        "id": "B0VcXrX1RAhN"
      },
      "execution_count": 7,
      "outputs": []
    },
    {
      "cell_type": "markdown",
      "source": [
        "**Hyperparameters**\n",
        "\n",
        "Initialization of optimizer, scheduler, number of iterations, and the depth of the model\n",
        "\n",
        "Depth of the model is described as an integer **n** in the [paper](https://arxiv.org/pdf/1512.03385.pdf). Therefore, in fact, the depth of the model is 6*n+2.\n",
        "\n",
        "For instance, the value of n for ResNet20 must be 3."
      ],
      "metadata": {
        "id": "sLc1t3M8P0oC"
      }
    },
    {
      "cell_type": "code",
      "source": [
        "LR = 0.1\n",
        "MOMENTUM = 0.9\n",
        "WEIGHT_DECAY = 0.0001\n",
        "DEPTH = 3"
      ],
      "metadata": {
        "id": "g11htUIQRZgb"
      },
      "execution_count": 8,
      "outputs": []
    },
    {
      "cell_type": "code",
      "source": [
        "model = ResNet(N=3, num_classes=10)\n",
        "\n",
        "print(f'Model is initialized, the total number of parameters is {sum(p.numel() for p in model.parameters())/1000000 :.3f}M')\n",
        "\n",
        "criterion = nn.CrossEntropyLoss()\n",
        "optimizer = torch.optim.SGD(model.parameters(), lr=LR, momentum=MOMENTUM, weight_decay=WEIGHT_DECAY)\n",
        "scheduler = torch.optim.lr_scheduler.StepLR(optimizer, step_size=32000, gamma=0.1)"
      ],
      "metadata": {
        "id": "ysE-N797PIoz",
        "colab": {
          "base_uri": "https://localhost:8080/"
        },
        "outputId": "239624da-5876-4035-8258-8390939e588c"
      },
      "execution_count": 9,
      "outputs": [
        {
          "output_type": "stream",
          "name": "stdout",
          "text": [
            "Model is initialized, the total number of parameters is 0.270M\n"
          ]
        }
      ]
    },
    {
      "cell_type": "markdown",
      "source": [
        "**Training**"
      ],
      "metadata": {
        "id": "B3pZ10nbS9YZ"
      }
    },
    {
      "cell_type": "code",
      "source": [
        "def cycle(iterable):\n",
        "    while True:\n",
        "        for x in iterable:\n",
        "            yield x\n",
        "\n",
        "dataiter = iter(cycle(trainloader))"
      ],
      "metadata": {
        "id": "yEczTB7bSPeh"
      },
      "execution_count": 10,
      "outputs": []
    },
    {
      "cell_type": "code",
      "source": [
        "MAX_STEPS = 48000\n",
        "running_loss = 0.0\n",
        "best_error = 1.0\n",
        "best_state_dict = model.state_dict()\n",
        "\n",
        "model.to(device)\n",
        "for step_number, data in enumerate(dataiter):\n",
        "\n",
        "  if step_number == MAX_STEPS:\n",
        "    print(\"End of training\"); break;\n",
        "  \n",
        "  x, y = data\n",
        "\n",
        "  x, y = x.to(device), y.to(device)\n",
        "  optimizer.zero_grad()\n",
        "\n",
        "  outputs = model(x)\n",
        "\n",
        "  loss = criterion(outputs, y)\n",
        "  loss.backward()\n",
        "\n",
        "  optimizer.step()\n",
        "  scheduler.step()\n",
        "\n",
        "  running_loss += loss.item()\n",
        "  if step_number % 2000 == 0:    # print every 2000 mini-batches\n",
        "    print(f'[{step_number:5d}] loss: {running_loss / 2000:.3f}')\n",
        "    running_loss = 0.0\n",
        "\n",
        "    # evaluate on validation set\n",
        "    model.eval()\n",
        "    correct, total = 0, 0\n",
        "    with torch.no_grad():\n",
        "      for data in validloader:\n",
        "        images, labels = data\n",
        "        images, labels = images.to(device), labels.to(device)\n",
        "\n",
        "        outputs = model(images)\n",
        "        _, predictions = torch.max(outputs, 1)\n",
        "        \n",
        "        correct += torch.sum(predictions==labels).item()\n",
        "        total += labels.size(0)\n",
        "\n",
        "\n",
        "\n",
        "    error = 1 - (correct/total)\n",
        "    if error < best_error:\n",
        "      best_error = error\n",
        "      print(f'Error rate has dropped to {best_error:.3f}')\n",
        "      best_state_dict = deepcopy(model.state_dict())\n",
        "    \n",
        "    # turn on train mode back\n",
        "    model.train()\n"
      ],
      "metadata": {
        "colab": {
          "base_uri": "https://localhost:8080/"
        },
        "id": "iJ62S1plTE1q",
        "outputId": "521971cf-3925-4633-875f-33a8fba58f46"
      },
      "execution_count": 11,
      "outputs": [
        {
          "output_type": "stream",
          "name": "stdout",
          "text": [
            "[    0] loss: 0.001\n",
            "Error rate has dropped to 0.885\n",
            "[ 2000] loss: 1.141\n",
            "Error rate has dropped to 0.306\n",
            "[ 4000] loss: 0.666\n",
            "Error rate has dropped to 0.235\n",
            "[ 6000] loss: 0.521\n",
            "Error rate has dropped to 0.210\n",
            "[ 8000] loss: 0.448\n",
            "Error rate has dropped to 0.171\n",
            "[10000] loss: 0.402\n",
            "[12000] loss: 0.368\n",
            "Error rate has dropped to 0.165\n",
            "[14000] loss: 0.343\n",
            "Error rate has dropped to 0.162\n",
            "[16000] loss: 0.327\n",
            "[18000] loss: 0.313\n",
            "[20000] loss: 0.300\n",
            "Error rate has dropped to 0.155\n",
            "[22000] loss: 0.290\n",
            "Error rate has dropped to 0.153\n",
            "[24000] loss: 0.282\n",
            "[26000] loss: 0.280\n",
            "[28000] loss: 0.269\n",
            "Error rate has dropped to 0.139\n",
            "[30000] loss: 0.263\n",
            "[32000] loss: 0.260\n",
            "Error rate has dropped to 0.136\n",
            "[34000] loss: 0.131\n",
            "Error rate has dropped to 0.092\n",
            "[36000] loss: 0.097\n",
            "Error rate has dropped to 0.086\n",
            "[38000] loss: 0.083\n",
            "[40000] loss: 0.073\n",
            "[42000] loss: 0.066\n",
            "[44000] loss: 0.061\n",
            "[46000] loss: 0.055\n",
            "End of training\n"
          ]
        }
      ]
    },
    {
      "cell_type": "markdown",
      "source": [
        "**Testing our best model on test set**"
      ],
      "metadata": {
        "id": "65Z9UezR2_Av"
      }
    },
    {
      "cell_type": "code",
      "source": [
        "model.load_state_dict(best_state_dict)\n",
        "\n",
        "model.eval()\n",
        "correct, total = 0, 0\n",
        "\n",
        "with torch.no_grad():\n",
        "  for data in testloader:\n",
        "    images, labels = data\n",
        "    images, labels = images.to(device), labels.to(device)\n",
        "\n",
        "    outputs = model(images)\n",
        "    _, predictions = torch.max(outputs, 1)\n",
        "\n",
        "    correct += torch.sum(predictions==labels).item()\n",
        "    total += labels.size(0)\n",
        "\n",
        "test_error = 1 - (correct/total)\n",
        "print(f'Error on the test set is {test_error:.5f}')\n"
      ],
      "metadata": {
        "id": "pXxvHlBxTvun",
        "colab": {
          "base_uri": "https://localhost:8080/"
        },
        "outputId": "15e7ead8-ecd8-4462-8101-e36d3e214f66"
      },
      "execution_count": 12,
      "outputs": [
        {
          "output_type": "stream",
          "name": "stdout",
          "text": [
            "Error on the test set is 0.09280\n"
          ]
        }
      ]
    }
  ]
}